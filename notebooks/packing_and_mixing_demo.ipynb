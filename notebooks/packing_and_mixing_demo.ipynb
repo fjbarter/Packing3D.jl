{
 "cells": [
  {
   "cell_type": "markdown",
   "id": "039380e4",
   "metadata": {},
   "source": [
    "# Packing Density & Mixing Index Demo (Julia)\n",
    "\n",
    "This notebook demonstrates how to use the `Packing3D` Julia package to:\n",
    "\n",
    "1. Load a sample particle dataset  \n",
    "2. Compute packing density  \n",
    "3. Compute mixing indices  \n",
    "4. (Optionally) visualize moving boundary regions  \n",
    "\n",
    "The first code cell below is a simple example of using Packing3D to calculate the packing density of particles in a cylindrical vessel."
   ]
  },
  {
   "cell_type": "code",
   "execution_count": null,
   "id": "6299f8db",
   "metadata": {},
   "outputs": [],
   "source": [
    "# Packing Density in a Cylindrical Vessel #\n",
    "\n",
    "using Packing3D\n",
    "\n",
    "file = \"particles_0.vtk\"\n",
    "\n",
    "data = read_vtk_file(file)\n",
    "\n",
    "boundaries_cylindrical = Dict(\n",
    "    :r_min => -1, :r_max => 0.025,\n",
    "    :theta_min => 0.0, :theta_max => 2*pi,\n",
    "    :z_min => 0.005, :z_max => 0.03\n",
    ")\n",
    "\n",
    "packing_density = calculate_packing(;\n",
    "    data=data,\n",
    "    boundaries=boundaries_cylindrical,\n",
    "    system=:cylindrical\n",
    ")\n",
    "\n",
    "println(\"Packing Density: \", packing_density)"
   ]
  }
 ],
 "metadata": {
  "kernelspec": {
   "display_name": "Julia 1.11.1",
   "language": "julia",
   "name": "julia-1.11"
  },
  "language_info": {
   "file_extension": ".jl",
   "mimetype": "application/julia",
   "name": "julia",
   "version": "1.11.1"
  }
 },
 "nbformat": 4,
 "nbformat_minor": 5
}
