{
 "cells": [
  {
   "cell_type": "markdown",
   "id": "039380e4",
   "metadata": {},
   "source": [
    "# Packing Density & Mixing Index Demo (Julia)\n",
    "\n",
    "This notebook demonstrates how to use the `Packing3D` Julia package to:\n",
    "\n",
    "1. Load a sample particle dataset  \n",
    "2. Compute packing density  \n",
    "3. Compute mixing indices  \n",
    "\n",
    "The first code cell below is a simple example of using Packing3D to calculate the packing density of particles in a cylindrical vessel. Feel free to modify the boundaries by a few millimetres to see how this affects the packing density."
   ]
  },
  {
   "cell_type": "code",
   "execution_count": null,
   "id": "6299f8db",
   "metadata": {},
   "outputs": [],
   "source": [
    "# Packing Density in a Cylindrical Vessel #\n",
    "\n",
    "using Packing3D\n",
    "\n",
    "file = \"particles_0.vtk\"\n",
    "\n",
    "data = read_vtk_file(file)\n",
    "\n",
    "boundaries_cylindrical = Dict(\n",
    "    :r_min => -1, :r_max => 0.025,\n",
    "    :theta_min => 0.0, :theta_max => 2*pi,\n",
    "    :z_min => 0.005, :z_max => 0.03\n",
    ")\n",
    "\n",
    "packing_density = calculate_packing(;\n",
    "    data=data,\n",
    "    boundaries=boundaries_cylindrical,\n",
    "    system=:cylindrical\n",
    ")\n",
    "\n",
    "println(\"Packing Density: \", packing_density)"
   ]
  },
  {
   "cell_type": "markdown",
   "id": "265461a4",
   "metadata": {},
   "source": [
    "The next block demonstrates a comparison between the first and last file in from a vibro-packing simulation:"
   ]
  },
  {
   "cell_type": "code",
   "execution_count": null,
   "id": "6f997bc7",
   "metadata": {},
   "outputs": [],
   "source": [
    "# Packing density change after vibro-packing #\n",
    "\n",
    "using Packing3D\n",
    "\n",
    "# Load files\n",
    "file_initial = \"particles_0.vtk\"\n",
    "file_final   = \"particles_final.vtk\"\n",
    "\n",
    "data_initial = read_vtk_file(file_initial)\n",
    "data_final   = read_vtk_file(file_final)\n",
    "\n",
    "boundaries_cylindrical = Dict(\n",
    "    :r_min => -1, :r_max => 0.025,\n",
    "    :theta_min => 0.0, :theta_max => 2*pi,\n",
    "    :z_min => 0.005, :z_max => 0.03\n",
    ")\n",
    "\n",
    "packing_initial = calculate_packing(;\n",
    "    data=data_initial,\n",
    "    boundaries=boundaries_cylindrical,\n",
    "    system=:cylindrical\n",
    ")\n",
    "\n",
    "packing_final = calculate_packing(;\n",
    "    data=data_final,\n",
    "    boundaries=boundaries_cylindrical,\n",
    "    system=:cylindrical\n",
    ")\n",
    "\n",
    "println(\"Initial packing density:\", packing_initial)\n",
    "println(\"Final packing density  :\", packing_final)"
   ]
  },
  {
   "cell_type": "markdown",
   "id": "e5aa7edf",
   "metadata": {},
   "source": [
    "If you run the above, you will see a modest increase in packing density in this simulation. Let's see how well the bed stays mixed..."
   ]
  },
  {
   "cell_type": "code",
   "execution_count": null,
   "id": "5a3b2959",
   "metadata": {},
   "outputs": [],
   "source": [
    "# Lacey mixing index change after vibro-packing #\n",
    "\n",
    "using Packing3D\n",
    "\n",
    "# Load files\n",
    "file_initial = \"particles_0.vtk\"\n",
    "file_final   = \"particles_final.vtk\"\n",
    "\n",
    "data_initial = read_vtk_file(file_initial)\n",
    "data_final   = read_vtk_file(file_final)\n",
    "\n",
    "# Gather particle ids of the small and large particles from the initial file\n",
    "data_1_ids, data_2_ids = split_data(\n",
    "    data_initial;\n",
    "    split_by=:radius,\n",
    "    threshold=0.0007\n",
    ")\n",
    "\n",
    "# Match these ids to the relevant particles in each dataset\n",
    "data_1_initial, data_2_initial = match_split_data(\n",
    "    data_initial, data_1_ids, data_2_ids\n",
    ")\n",
    "data_1_final, data_2_final = match_split_data(\n",
    "    data_final, data_1_ids, data_2_ids\n",
    ")\n",
    "\n",
    "# Define cylinder parameters\n",
    "cylinder_params = Dict(\n",
    "    :cylinder_radius => 0.03,\n",
    "    :cylinder_base_level => 0.0,\n",
    "    :cylinder_height => 0.08\n",
    ")\n",
    "\n",
    "# Construct a cylindrical Mesh with 1000 cells\n",
    "cylindrical_mesh = Mesh(\n",
    "    :cylindrical;\n",
    "    params=cylinder_params,\n",
    "    target_num_cells=1000\n",
    ")\n",
    "\n",
    "lacey_initial = calculate_lacey(\n",
    "    data_1_initial, data_2_initial;\n",
    "    mesh=cylindrical_mesh,\n",
    "    calculate_partial_volumes=true\n",
    ")\n",
    "\n",
    "lacey_final = calculate_lacey(\n",
    "    data_1_final, data_2_final;\n",
    "    mesh=cylindrical_mesh,\n",
    "    calculate_partial_volumes=true\n",
    ")\n",
    "\n",
    "println(\"Initial Lacey mixing index:\", lacey_initial)\n",
    "println(\"Final Lacey mixing index  :\", lacey_final)"
   ]
  },
  {
   "cell_type": "markdown",
   "id": "58f764ca",
   "metadata": {},
   "source": [
    "If you run the above, you will unfortunately see a clear segregative result indicated by the drop in Lacey Index."
   ]
  }
 ],
 "metadata": {
  "kernelspec": {
   "display_name": "Julia 1.11.1",
   "language": "julia",
   "name": "julia-1.11"
  },
  "language_info": {
   "file_extension": ".jl",
   "mimetype": "application/julia",
   "name": "julia",
   "version": "1.11.1"
  }
 },
 "nbformat": 4,
 "nbformat_minor": 5
}
